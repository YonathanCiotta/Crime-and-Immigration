{
 "cells": [
  {
   "cell_type": "markdown",
   "id": "28bd9a79",
   "metadata": {},
   "source": [
    "# Crime and Criminal Justice Analysis\n",
    "This notebook contains the analysis of crime and immigration data."
   ]
  },
  {
   "cell_type": "code",
   "execution_count": null,
   "id": "dcfa84c0",
   "metadata": {},
   "outputs": [],
   "source": [
    "import pandas as pd\n",
    "import matplotlib.pyplot as plt\n",
    "import seaborn as sns\n",
    "%matplotlib inline"
   ]
  },
  {
   "cell_type": "markdown",
   "id": "f826dfa8",
   "metadata": {},
   "source": [
    "## Data Loading and Preparation\n",
    "Loading the datasets and preparing them for analysis."
   ]
  },
  {
   "cell_type": "code",
   "execution_count": null,
   "id": "77c0e463",
   "metadata": {},
   "outputs": [],
   "source": [
    "# Assuming the data is already loaded in df_combined\n",
    "df_combined.head()"
   ]
  },
  {
   "cell_type": "markdown",
   "id": "dabb7a01",
   "metadata": {},
   "source": [
    "## Data Analysis\n",
    "Analyzing the relationship between crime and immigration rates."
   ]
  },
  {
   "cell_type": "code",
   "execution_count": null,
   "id": "4df1c99e",
   "metadata": {},
   "outputs": [],
   "source": [
    "# Visualization Code\n",
    "sns.lineplot(data=df_combined, x='Year', y='Crime_Growth', hue='Country')\n",
    "plt.title('Yearly Crime Growth Trends')\n",
    "plt.show()"
   ]
  },
  {
   "cell_type": "markdown",
   "id": "4008f6e5",
   "metadata": {},
   "source": [
    "## Correlation Analysis\n",
    "Analyzing the correlation between different variables."
   ]
  },
  {
   "cell_type": "code",
   "execution_count": null,
   "id": "6aab2938",
   "metadata": {},
   "outputs": [],
   "source": [
    "# Correlation Heatmap\n",
    "sns.heatmap(df_combined[['Crime_Growth', 'Immigration_Growth', 'GDP_Growth', 'Immigration_Rate']].corr(), annot=True)\n",
    "plt.title('Correlation Heatmap')\n",
    "plt.show()"
   ]
  },
  {
   "cell_type": "markdown",
   "id": "b6e851cf",
   "metadata": {},
   "source": [
    "## Conclusion and Interpretation\n",
    "\n",
    "**General Observations:**\n",
    "\n",
    "The visualizations provide a preliminary understanding of the potential relationships between immigration and crime growth in the selected countries."
   ]
  }
 ],
 "metadata": {},
 "nbformat": 4,
 "nbformat_minor": 5
}
